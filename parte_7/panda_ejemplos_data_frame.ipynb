{
 "metadata": {
  "language_info": {
   "codemirror_mode": {
    "name": "ipython",
    "version": 3
   },
   "file_extension": ".py",
   "mimetype": "text/x-python",
   "name": "python",
   "nbconvert_exporter": "python",
   "pygments_lexer": "ipython3",
   "version": "3.8.5"
  },
  "orig_nbformat": 2,
  "kernelspec": {
   "name": "python385jvsc74a57bd0b3ba2566441a7c06988d0923437866b63cedc61552a5af99d1f4fb67d367b25f",
   "display_name": "Python 3.8.5 64-bit ('base': conda)"
  }
 },
 "nbformat": 4,
 "nbformat_minor": 2,
 "cells": [
  {
   "cell_type": "code",
   "execution_count": 3,
   "metadata": {},
   "outputs": [],
   "source": [
    "import pandas as pd\n",
    "\n",
    "#Se puede crear un DataFrame de pandas utilizando el siguiente constructor:\n",
    "#pandas.DataFrame( data, index, columns, dtype, copy)\n"
   ]
  },
  {
   "cell_type": "code",
   "execution_count": 2,
   "metadata": {},
   "outputs": [
    {
     "output_type": "stream",
     "name": "stdout",
     "text": [
      "   0\n0  1\n1  2\n2  3\n3  4\n4  5\n"
     ]
    }
   ],
   "source": [
    "data = [1,2,3,4,5]\n",
    "df = pd.DataFrame(data)\n",
    "print(df)"
   ]
  },
  {
   "cell_type": "code",
   "execution_count": 4,
   "metadata": {},
   "outputs": [
    {
     "output_type": "stream",
     "name": "stdout",
     "text": [
      "  Nombre  Edad\n0    Ale    10\n1   Pepe    12\n2   Zule    13\n"
     ]
    }
   ],
   "source": [
    "data = [['Ale',10],['Pepe',12],['Zule',13]]\n",
    "df = pd.DataFrame(data,columns=['Nombre','Edad'])\n",
    "print (df)\n"
   ]
  },
  {
   "cell_type": "code",
   "execution_count": 5,
   "metadata": {},
   "outputs": [
    {
     "output_type": "stream",
     "name": "stdout",
     "text": [
      "  Nombre  Edad\n0    Ale  10.0\n1   Pepe  12.0\n2   Zule  13.0\n"
     ]
    }
   ],
   "source": [
    "data = [['Ale',10],['Pepe',12],['Zule',13]]\n",
    "df = pd.DataFrame(data,columns=['Nombre','Edad'], dtype=float)\n",
    "print (df)\n"
   ]
  },
  {
   "cell_type": "code",
   "execution_count": 6,
   "metadata": {},
   "outputs": [
    {
     "output_type": "stream",
     "name": "stdout",
     "text": [
      "   Nombre  Edad\n0    Tomy    28\n1    Juan    34\n2  Silvio    29\n3   Ricky    42\n"
     ]
    }
   ],
   "source": [
    "data = {'Nombre':['Tomy', 'Juan', 'Silvio', 'Ricky'],'Edad':[28,34,29,42]}\n",
    "df = pd.DataFrame(data)\n",
    "print (df)\n"
   ]
  },
  {
   "cell_type": "code",
   "execution_count": 7,
   "metadata": {},
   "outputs": [
    {
     "output_type": "stream",
     "name": "stdout",
     "text": [
      "       Nombre  Edad\nrank1    Tomy    28\nrank2    Juan    34\nrank3  Silvio    29\nrank4   Ricky    42\n"
     ]
    }
   ],
   "source": [
    "data = {'Nombre':['Tomy', 'Juan', 'Silvio', 'Ricky'],'Edad':[28,34,29,42]}\n",
    "df = pd.DataFrame(data, index=['rank1','rank2','rank3','rank4'])\n",
    "print (df)\n"
   ]
  },
  {
   "cell_type": "code",
   "execution_count": 8,
   "metadata": {},
   "outputs": [
    {
     "output_type": "stream",
     "name": "stdout",
     "text": [
      "   a   b     c\n0  1   2   NaN\n1  5  10  20.0\n"
     ]
    }
   ],
   "source": [
    "data = [{'a': 1, 'b': 2},{'a': 5, 'b': 10, 'c': 20}]\n",
    "df = pd.DataFrame(data)\n",
    "print (df) "
   ]
  },
  {
   "cell_type": "code",
   "execution_count": 11,
   "metadata": {},
   "outputs": [
    {
     "output_type": "stream",
     "name": "stdout",
     "text": [
      "         a   b     c\nprimera  1   2   NaN\nsegunda  5  10  20.0\n"
     ]
    }
   ],
   "source": [
    "data = [{'a': 1, 'b': 2},{'a': 5, 'b': 10, 'c': 20}]\n",
    "df = pd.DataFrame(data, index=['primera', 'segunda'])\n",
    "print (df)"
   ]
  },
  {
   "cell_type": "code",
   "execution_count": 13,
   "metadata": {},
   "outputs": [
    {
     "output_type": "stream",
     "name": "stdout",
     "text": [
      "         a   b\nprimera  1   2\nsegunda  5  10\n\n         a  b1\nprimera  1 NaN\nsegunda  5 NaN\n"
     ]
    }
   ],
   "source": [
    "# Observa que mientras el Data Frame df1 se crea con índices de columna iguales a las claves del diccionario\n",
    "# agrega NaN. el Data Frame df2 se crea con un índice de columna que no es clave del diccionario, así se\n",
    "# agregaron los NaN.\n",
    "data = [{'a': 1, 'b': 2},{'a': 5, 'b': 10, 'c': 20}]\n",
    "df1 = pd.DataFrame(data, index=['primera', 'segunda'], columns=['a', 'b'])\n",
    "df2 = pd.DataFrame(data, index=['primera', 'segunda'], columns=['a', 'b1'])\n",
    "print (df1)\n",
    "print (\"\")\n",
    "print (df2)"
   ]
  },
  {
   "cell_type": "code",
   "execution_count": 14,
   "metadata": {},
   "outputs": [
    {
     "output_type": "stream",
     "name": "stdout",
     "text": [
      "   one  two\na  1.0    1\nb  2.0    2\nc  3.0    3\nd  NaN    4\n"
     ]
    }
   ],
   "source": [
    "# Crear un Data Frame desde dict of Series: El diccionario de series se puede pasar para formar un \n",
    "# Data Frame. El índice resultante es la unión de todos los índices de serie pasados.\n",
    "\n",
    "d = {'one' : pd.Series([1, 2, 3], index=['a', 'b', 'c']),\n",
    "'two' : pd.Series([1, 2, 3, 4], index=['a', 'b', 'c', 'd'])}\n",
    "df = pd.DataFrame(d)\n",
    "print(df)\n"
   ]
  },
  {
   "cell_type": "code",
   "execution_count": 16,
   "metadata": {},
   "outputs": [
    {
     "output_type": "stream",
     "name": "stdout",
     "text": [
      "   one  two\na  1.0    1\nb  2.0    2\nc  3.0    3\nd  NaN    4\n\na    1.0\nb    2.0\nc    3.0\nd    NaN\nName: one, dtype: float64\n"
     ]
    }
   ],
   "source": [
    "# Selección, adición y eliminación de columnas\n",
    "d = {'one' : pd.Series([1, 2, 3], index=['a', 'b', 'c']),\n",
    "'two' : pd.Series([1, 2, 3, 4], index=['a', 'b', 'c', 'd'])}\n",
    "df = pd.DataFrame(d)\n",
    "print (df)\n",
    "print(\"\")\n",
    "print (df['one'])"
   ]
  },
  {
   "cell_type": "code",
   "execution_count": 19,
   "metadata": {},
   "outputs": [
    {
     "output_type": "stream",
     "name": "stdout",
     "text": [
      "Agregar una nueva columna pasada como Series:\n\n   uno  dos  tres\na  1.0    1  10.0\nb  2.0    2  20.0\nc  3.0    3  30.0\nd  NaN    4   NaN\nAgregar una nueva columna usando las columnas existentes en DataFrame:\n\n   uno  dos  tres  cuatro\na  1.0    1  10.0    11.0\nb  2.0    2  20.0    22.0\nc  3.0    3  30.0    33.0\nd  NaN    4   NaN     NaN\n"
     ]
    }
   ],
   "source": [
    "# Agregar una columnas\n",
    "d = {'uno' : pd.Series([1, 2, 3], index=['a', 'b', 'c']),\n",
    "'dos' : pd.Series([1, 2, 3, 4], index=['a', 'b', 'c', 'd'])}\n",
    "df = pd.DataFrame(d)\n",
    "print (\"Agregar una nueva columna pasada como Series:\\n\")\n",
    "df['tres']=pd.Series([10,20,30],index=['a','b','c'])\n",
    "print(df)\n",
    "print (\"Agregar una nueva columna usando las columnas existentes en DataFrame:\\n\")\n",
    "#suma columnas y crea una nueva columna con el resultado\n",
    "df['cuatro']=df['uno'] + df['tres']\n",
    "print(df)"
   ]
  },
  {
   "cell_type": "code",
   "execution_count": 22,
   "metadata": {},
   "outputs": [
    {
     "output_type": "stream",
     "name": "stdout",
     "text": [
      "Nuestro Data Frame es:\n   uno  dos  tres\na  1.0    1  10.0\nb  2.0    2  20.0\nc  3.0    3  30.0\nd  NaN    4   NaN\nEliminar la primera columna usando la función del:\n\n   dos  tres\na    1  10.0\nb    2  20.0\nc    3  30.0\nd    4   NaN\nEliminar otra columna usando la función pop:\n\n   tres\na  10.0\nb  20.0\nc  30.0\nd   NaN\n"
     ]
    }
   ],
   "source": [
    "d = {'uno' : pd.Series([1, 2, 3], index=['a', 'b', 'c']),\n",
    "'dos' : pd.Series([1, 2, 3, 4], index=['a', 'b', 'c', 'd']),\n",
    "'tres' : pd.Series([10,20,30], index=['a','b','c'])}\n",
    "df = pd.DataFrame(d)\n",
    "print (\"Nuestro Data Frame es:\")\n",
    "print (df)\n",
    "print (\"Eliminar la primera columna usando la función del:\\n\")\n",
    "del df['uno']\n",
    "print(df)\n",
    "print (\"Eliminar otra columna usando la función pop:\\n\")\n",
    "df.pop('dos')\n",
    "print(df)"
   ]
  },
  {
   "cell_type": "code",
   "execution_count": 23,
   "metadata": {},
   "outputs": [
    {
     "output_type": "stream",
     "name": "stdout",
     "text": [
      "   uno  dos\na  1.0    1\nb  2.0    2\nc  3.0    3\nd  NaN    4\nuno    2.0\ndos    2.0\nName: b, dtype: float64\n"
     ]
    }
   ],
   "source": [
    "# Selección por etiqueta\n",
    "# El resultado es una serie con etiquetas como los nombres de columna del DataFrame. Y el nombre de\n",
    "# la serie es la etiqueta con la que se recupera\n",
    "\n",
    "d = {'uno' : pd.Series([1, 2, 3], index=['a', 'b', 'c']),\n",
    "'dos' : pd.Series([1, 2, 3, 4], index=['a', 'b', 'c', 'd'])}\n",
    "df = pd.DataFrame(d)\n",
    "print (df)\n",
    "print (df.loc['b'])"
   ]
  },
  {
   "cell_type": "code",
   "execution_count": 24,
   "metadata": {},
   "outputs": [
    {
     "output_type": "stream",
     "name": "stdout",
     "text": [
      "   uno  dos\na  1.0    1\nb  2.0    2\nc  3.0    3\nd  NaN    4\nuno    3.0\ndos    3.0\nName: c, dtype: float64\n"
     ]
    }
   ],
   "source": [
    "# Selección por ubicación entera\n",
    "# Las filas se pueden seleccionar pasando la ubicación entera a una función iloc\n",
    "\n",
    "d = {'uno' : pd.Series([1, 2, 3], index=['a', 'b', 'c']),\n",
    "'dos' : pd.Series([1, 2, 3, 4], index=['a', 'b', 'c', 'd'])}\n",
    "df = pd.DataFrame(d)\n",
    "print(df)\n",
    "print (df.iloc[2])"
   ]
  },
  {
   "cell_type": "code",
   "execution_count": 25,
   "metadata": {},
   "outputs": [
    {
     "output_type": "stream",
     "name": "stdout",
     "text": [
      "   uno  dos\na  1.0    1\nb  2.0    2\nc  3.0    3\nd  NaN    4\n   uno  dos\nc  3.0    3\nd  NaN    4\n"
     ]
    }
   ],
   "source": [
    "# Selección de varias filas \n",
    "\n",
    "d = {'uno' : pd.Series([1, 2, 3], index=['a', 'b', 'c']),\n",
    "'dos' : pd.Series([1, 2, 3, 4], index=['a', 'b', 'c', 'd'])}\n",
    "df = pd.DataFrame(d)\n",
    "print(df)\n",
    "print (df[2:4])"
   ]
  },
  {
   "cell_type": "code",
   "execution_count": 28,
   "metadata": {},
   "outputs": [
    {
     "output_type": "stream",
     "name": "stdout",
     "text": [
      "   a  b\n0  1  2\n1  3  4 \n\n   a  b\n0  1  2\n1  3  4\n0  5  6\n1  7  8\n"
     ]
    }
   ],
   "source": [
    "# Adición de filas\n",
    "df = pd.DataFrame([[1, 2], [3, 4]], columns = ['a','b'])\n",
    "print(f\"{df} \\n\")\n",
    "df2 = pd.DataFrame([[5, 6], [7, 8]], columns = ['a','b'])\n",
    "df = df.append(df2)\n",
    "print (df)"
   ]
  },
  {
   "cell_type": "code",
   "execution_count": 30,
   "metadata": {},
   "outputs": [
    {
     "output_type": "stream",
     "name": "stdout",
     "text": [
      "   a  b\n0  1  2\n1  3  4 \n\n   a  b\n0  1  2\n1  3  4\n0  5  6\n1  7  8 \n\n   a  b\n1  3  4\n1  7  8 \n\n"
     ]
    }
   ],
   "source": [
    "# Supresión de filas\n",
    "# Si la etiqueta está duplicada, se eliminarán varias filas\n",
    "df = pd.DataFrame([[1, 2], [3, 4]], columns = ['a','b'])\n",
    "df2 = pd.DataFrame([[5, 6], [7, 8]], columns = ['a','b'])\n",
    "print(f\"{df} \\n\")\n",
    "df = df.append(df2)\n",
    "print(f\"{df} \\n\")\n",
    "df = df.drop(0)\n",
    "print(f\"{df} \\n\") "
   ]
  },
  {
   "cell_type": "code",
   "execution_count": null,
   "metadata": {},
   "outputs": [],
   "source": []
  }
 ]
}