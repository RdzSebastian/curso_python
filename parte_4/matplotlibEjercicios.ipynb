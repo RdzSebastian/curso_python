{
 "metadata": {
  "language_info": {
   "codemirror_mode": {
    "name": "ipython",
    "version": 3
   },
   "file_extension": ".py",
   "mimetype": "text/x-python",
   "name": "python",
   "nbconvert_exporter": "python",
   "pygments_lexer": "ipython3",
   "version": "3.8.5"
  },
  "orig_nbformat": 2,
  "kernelspec": {
   "name": "python385jvsc74a57bd01187a321f996c2c6bfc5641e309a8bd85e1c899ed437b21b4ca300baf938078d",
   "display_name": "Python 3.8.5 64-bit ('base': conda)"
  },
  "metadata": {
   "interpreter": {
    "hash": "1187a321f996c2c6bfc5641e309a8bd85e1c899ed437b21b4ca300baf938078d"
   }
  }
 },
 "nbformat": 4,
 "nbformat_minor": 2,
 "cells": [
  {
   "cell_type": "code",
   "execution_count": 2,
   "metadata": {},
   "outputs": [
    {
     "output_type": "stream",
     "name": "stdout",
     "text": [
      "Los conjuntos son: /n M={10, 3, 20, 5}, A={10, 20, 46, 14}, B={0, 10, 3, 14} y U={1}\n\nFuncion in. Busco si 5 esta en el conjunto M: \nTrue \nFuncion len. Muestro el modulo de A: \n4\nFuncion not. Muestro si 10 no esta en B: \nFalse\nFuncion add. Añado un elemento al conjunto U: \nNone \nFuncion remove. Elimino un elemento al conjunto U: \nNone \nFuncion intersection. Muestro la interseccion entre B y A: \n{10, 14} \nFuncion union. Muestro la union entre M y A: \n{3, 5, 10, 46, 14, 20} \nFuncion diferencia. Aplico la funcion diferencia entre A y B: \n{20, 46} \nFuncion diferencia. Aplico la funcion diferencia simetrica entre A y B: \n{0, 3, 46, 20} \nFuncion issubset. Muestro si M es un subconjunto de A: \nFalse \n"
     ]
    }
   ],
   "source": [
    "#1. Dado el siguiente problema con su programación en Python, genera los gráficos con Diagramas de Venn que\n",
    "#representen las respuestas de los encuestados. Investiga el uso de subplots en Matplotlib:\n",
    "\n",
    "#Un grupo de jóvenes fue entrevistado para conocer sus preferencias de los\n",
    "#siguientes medios de trasnporte: moto, auto y bicicleta. Los datos de la encuesta\n",
    "#fueron los siguientes:\n",
    "#1. 5 jóvenes prefieren solamente la moto\n",
    "#2. 38 jóvenes prefieren la moto\n",
    "#3. A 9 jóvenes no les gusta el automóvil como medio de transporte\n",
    "#4. 3 jóvenes prefieren la moto y la bicicleta, pero no el auto\n",
    "#5. 20 prefieren la moto y el auto, pero no la bicicleta\n",
    "#6. A 72 no les gusta la bicicleta como medio de trasnporte\n",
    "#7. Un solo joven, no prefiere ninguno de estos tres medios de transporte\n",
    "#8. A 61 no les gusta la moto como medio de transporte\n",
    "M={5,20,3,10}\n",
    "A={46,20,10,14}\n",
    "B={0,3,10,14}\n",
    "U={1}\n",
    "\n",
    "#Muestro los conjuntos\n",
    "print(f\"Los conjuntos son: /n M={M}, A={A}, B={B} y U={U}\\n\")\n",
    "\n",
    "#Funcion in\n",
    "print(\"Funcion in. Busco si 5 esta en el conjunto M: \")\n",
    "print(5 in M, end=\" \\n\")\n",
    "\n",
    "#Funcion len\n",
    "print(\"Funcion len. Muestro el modulo de A: \")\n",
    "print(len(A))\n",
    "\n",
    "#Funcion not\n",
    "print(\"Funcion not. Muestro si 10 no esta en B: \")\n",
    "print(10 not in B, end= \"\\n\")\n",
    "\n",
    "#Funcion add\n",
    "print(\"Funcion add. Añado un elemento al conjunto U: \")\n",
    "print(U.add('x'), end=\" \\n\")\n",
    "\n",
    "#Funcion remove\n",
    "print(\"Funcion remove. Elimino un elemento al conjunto U: \")\n",
    "print(U.remove('x'), end=\" \\n\")\n",
    "\n",
    "#Funcion intersection\n",
    "print(\"Funcion intersection. Muestro la interseccion entre B y A: \")\n",
    "print(B&A, end=\" \\n\")\n",
    "\n",
    "#Funcion union\n",
    "print(\"Funcion union. Muestro la union entre M y A: \")\n",
    "2\n",
    "print(M|A, end=\" \\n\")\n",
    "\n",
    "#Funcion diferencia -\n",
    "print(\"Funcion diferencia. Aplico la funcion diferencia entre A y B: \")\n",
    "print (A-B, end=\" \\n\")\n",
    "\n",
    "#Funcion ^\n",
    "print(\"Funcion diferencia. Aplico la funcion diferencia simetrica entre A y B: \")\n",
    "print(A^B, end= \" \\n\")\n",
    "\n",
    "#Funcion issubset\n",
    "print(\"Funcion issubset. Muestro si M es un subconjunto de A: \")\n",
    "print(M.issubset(A), end=\" \\n\")"
   ]
  },
  {
   "cell_type": "code",
   "execution_count": null,
   "metadata": {},
   "outputs": [],
   "source": []
  }
 ]
}