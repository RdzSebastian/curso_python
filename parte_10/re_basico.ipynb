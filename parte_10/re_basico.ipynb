{
 "metadata": {
  "language_info": {
   "codemirror_mode": {
    "name": "ipython",
    "version": 3
   },
   "file_extension": ".py",
   "mimetype": "text/x-python",
   "name": "python",
   "nbconvert_exporter": "python",
   "pygments_lexer": "ipython3",
   "version": "3.8.5"
  },
  "orig_nbformat": 2,
  "kernelspec": {
   "name": "python385jvsc74a57bd0b3ba2566441a7c06988d0923437866b63cedc61552a5af99d1f4fb67d367b25f",
   "display_name": "Python 3.8.5 64-bit ('base': conda)"
  }
 },
 "nbformat": 4,
 "nbformat_minor": 2,
 "cells": [
  {
   "cell_type": "code",
   "execution_count": 29,
   "metadata": {},
   "outputs": [],
   "source": [
    "import re\n",
    "import urllib.request as ur\n",
    "\n",
    "def buscar(patrones, texto):\n",
    "    for patron in patrones:\n",
    "        print(re.findall(patron, texto))\n"
   ]
  },
  {
   "cell_type": "code",
   "execution_count": null,
   "metadata": {},
   "outputs": [],
   "source": [
    "# [A-Z]: Cualquier carácter alfabético en mayúscula (no especial ni número)\n",
    "# [a-z]: Cualquier carácter alfabético en minúscula (no especial ni número)\n",
    "# [A-Za- z]: Cualquier carácter alfabético en minúscula o mayúscula (no especial ni número)\n",
    "# [A-z]: Cualquier carácter alfabético en minúscula o mayúscula (no especial ni número)\n",
    "# [0-9]: Cualquier carácter numérico (no especial ni alfabético)\n",
    "# [a-zA-Z0-9]: Cualquier carácter alfanumérico (no especial)"
   ]
  },
  {
   "cell_type": "code",
   "execution_count": 4,
   "metadata": {},
   "outputs": [
    {
     "output_type": "stream",
     "name": "stdout",
     "text": [
      "['hla', 'hola', 'hoola', 'hooola', 'hoooooola']\n['ho', 'hoo', 'hooo', 'hoooooo']\n['h', 'h', 'ho', 'ho', 'ho', 'ho', 'h']\n['hla', 'hola']\n"
     ]
    }
   ],
   "source": [
    "#Ejemplo 1\n",
    "\n",
    "texto = 'hi hla hola hoola hooola hoooooola huuuuulaaaa'\n",
    "\n",
    "# Metacaracter * : ninguna o mas veces ese carácter a su izquierda\n",
    "patrones = ['ho*la']\n",
    "buscar (patrones, texto)\n",
    "\n",
    "# Metacaracter +: una o más repeticiones de la letra a su izquierda\n",
    "patrones = ['ho+']\n",
    "buscar(patrones, texto)\n",
    "\n",
    "# Metacaracter ?: una o ninguna repetición de la letra a su izquierda\n",
    "patrones = ['ho?','ho?la']\n",
    "buscar(patrones, texto)"
   ]
  },
  {
   "cell_type": "code",
   "execution_count": 7,
   "metadata": {},
   "outputs": [
    {
     "output_type": "stream",
     "name": "stdout",
     "text": [
      "['h', 'h', 'h', 'h', 'h', 'h', 'h']\n['hola']\n['hooola']\n['hla', 'hola']\n['hola', 'hoola']\n['hoola', 'hooola', 'hoooooola']\n"
     ]
    }
   ],
   "source": [
    "#Ejemplo 2\n",
    "\n",
    "texto = 'hi hla hola hoola hooola hoooooola huuuuulaaaa'\n",
    "\n",
    "# Número de repeticiones explicito de la letra a su izquierda: {n}\n",
    "patrones = ['ho{0}','ho{1}la','ho{3}la']\n",
    "buscar(patrones, texto)\n",
    "\n",
    "# Sintaxis con rango {n, m}\n",
    "patrones = ['ho{0,1}la', 'ho{1,2}la', 'ho{2,10}la']\n",
    "buscar(patrones, texto)\n"
   ]
  },
  {
   "cell_type": "code",
   "execution_count": 8,
   "metadata": {},
   "outputs": [
    {
     "output_type": "stream",
     "name": "stdout",
     "text": [
      "['hola', 'hula']\n['hala', 'hila', 'hola']\n['hala', 'hela', 'hila', 'hola', 'hula']\n[]\n['haala', 'heeela']\n['hiiiila', 'hoooooola']\n['hola']\n['hala', 'hela', 'hila', 'hula']\n"
     ]
    }
   ],
   "source": [
    "#Ejemplo 3\n",
    "\n",
    "# Conjuntos de caracteres [ ] – sets\n",
    "texto = 'hele hala hela hila heli hola hula'\n",
    "patrones = ['h[ou]la', 'h[aio]la', 'h[aeiou]la']\n",
    "buscar(patrones, texto)\n",
    "\n",
    "# Utilizar repeticiones :\n",
    "texto = 'heeele haala heeela hiiiila hoooooola hiiilooo'\n",
    "patrones = ['h[ae]la', 'h[ae]*la', 'h[io]{3,9}la']\n",
    "buscar(patrones, texto)\n",
    "\n",
    "# Operador de exclusión [^ ] para indicar\n",
    "#una búsqueda contraria\n",
    "texto = 'hala hela hila hilo hola hula'\n",
    "patrones = ['h[o]la', 'h[^o]la']\n",
    "buscar(patrones, texto)\n"
   ]
  },
  {
   "cell_type": "code",
   "execution_count": 12,
   "metadata": {},
   "outputs": [
    {
     "output_type": "stream",
     "name": "stdout",
     "text": [
      "['hola']\n['h0la']\n['hola', 'Hola', 'mola']\n['Hola', 'M0la']\n['1', '2020']\n['Matemática III - ', 'er. cuatrimestre - ']\n[' ', ' ', ' ', ' ', ' ', ' ']\n['Matemática', 'III', '-', '1er.', 'cuatrimestre', '-', '2020']\n['Matemática', 'III', '1er', 'cuatrimestre', '2020']\n[' ', ' - ', '. ', ' - ']\n"
     ]
    }
   ],
   "source": [
    "#Ejemplo 4\n",
    "\n",
    "texto = 'hola h0la Hola mola m0la M0la'\n",
    "patrones = ['h[a-z]la', 'h[0-9]la', '[A-z]{4}', '[A-Z][A-z0-9]{3}']\n",
    "buscar(patrones, texto)\n",
    "\n",
    "# Códigos escapados\n",
    "# \\d numérico, \\D no numérico\n",
    "# \\s espacio en blanco, \\S no espacio en blanco\n",
    "# \\w alfanumérico, \\W no alfanumérico\n",
    "texto = 'Matemática III - 1er. cuatrimestre - 2020'\n",
    "patrones = [r'\\d+', r'\\D+', r'\\s', r'\\S+', r'\\w+',\n",
    "r'\\W+']\n",
    "buscar(patrones, texto)"
   ]
  },
  {
   "cell_type": "code",
   "execution_count": 13,
   "metadata": {},
   "outputs": [
    {
     "output_type": "stream",
     "name": "stdout",
     "text": [
      "(26, 30)\ncasi\n26\n30\n"
     ]
    }
   ],
   "source": [
    "#Metodo search() para buscar en un texto\n",
    "texto = \"Las expresiones regulares casi son un lenguaje de \\\n",
    "programación en miniatura para buscar y analizar cadenas. De hecho, \\\n",
    "se han escrito libros enteros sobre las expresiones regulares\"\n",
    "\n",
    "a_buscar = \"casi\"\n",
    "\n",
    "x = re.search(a_buscar, texto)\n",
    "\n",
    "print(x.span())\n",
    "print(x.group())\n",
    "print(x.start())\n",
    "print(x.end())\n",
    "\n"
   ]
  },
  {
   "cell_type": "code",
   "execution_count": 15,
   "metadata": {},
   "outputs": [
    {
     "output_type": "stream",
     "name": "stdout",
     "text": [
      "(0, 3)\n(0, 11)\n"
     ]
    }
   ],
   "source": [
    "#Método match() determina si la regex tiene coincidencias en el comienzo del texto.\n",
    "\n",
    "texto = \"Las expresiones regulares casi son un lenguaje de \\\n",
    "programación en miniatura para buscar y analizar cadenas. De hecho, \\\n",
    "se han escrito libros enteros sobre las expresiones regulares\"\n",
    "\n",
    "a_buscar1= \"Las\"\n",
    "a_buscar2 = \"expresiones\"\n",
    "\n",
    "x = re.match(a_buscar1, texto)\n",
    "print(x.span())\n",
    "\n",
    "#y = re.match(a_buscar2, texto)\n",
    "#print(y.span()) #Error!\n",
    "#El segundo match() dará un error al intentar hacer el print() pues el patrón “expresiones” no se encuentra al principio del texto y por tanto el método match() devuelve Error\n",
    "\n",
    "#pone expresiones al principio\n",
    "texto2 = \"expresiones regulares casi\"\n",
    "y = re.match(a_buscar2, texto2)\n",
    "print(y.span())\n"
   ]
  },
  {
   "cell_type": "code",
   "execution_count": 16,
   "metadata": {},
   "outputs": [
    {
     "output_type": "stream",
     "name": "stdout",
     "text": [
      "['est', 'est', 'est']\n"
     ]
    }
   ],
   "source": [
    "#Método findall() encuentra todos los subtextos donde haya una coincidencia y devuelve estas coincidencias como una lista.\n",
    "\n",
    "texto = \"El poder de las expresiones regulares se manifiesta cuando agregamos caracteres especiales a la cadena de búsqueda que nos permite controlar de manera más precisa qué líneas coinciden con la cadena. Agregar estos caracteres especiales a nuestra expresión regular nos permitirá buscar coincidencias y extraer datos usando unas pocas líneas de código.\"\n",
    "\n",
    "a_buscar = \"est\"\n",
    "\n",
    "#Busca todas las coincidencias en una cadena, si agregamos len(re.findall(a_buscar, texto) ),podríamos saber cuantas veces se repite un patrón dentro de una cadena\n",
    "x = re.findall(a_buscar, texto)\n",
    "print(x)"
   ]
  },
  {
   "cell_type": "code",
   "execution_count": 17,
   "metadata": {},
   "outputs": [
    {
     "output_type": "stream",
     "name": "stdout",
     "text": [
      "(47, 50)\n(207, 210)\n(239, 242)\n"
     ]
    }
   ],
   "source": [
    "# Método finditer() similar a findall pero en lugar de devolver una lista devuelve un iterador.\r\n",
    "texto = \"El poder de las expresiones regulares se manifiesta cuando agregamos caracteres especiales a la cadena de búsqueda que nos permite controlar de manera más precisa qué líneas coinciden con la cadena. Agregar estos caracteres especiales a nuestra expresión regular nos permitirá buscar coincidencias y extraer datos usando unas pocas líneas de código.\"\r\n",
    "\r\n",
    "a_buscar = \"est\"\r\n",
    "\r\n",
    "x = re.finditer(a_buscar, texto)\r\n",
    "\r\n",
    "for i in x:\r\n",
    "    print(i.span())\r\n"
   ]
  },
  {
   "cell_type": "code",
   "execution_count": 20,
   "metadata": {},
   "outputs": [
    {
     "output_type": "stream",
     "name": "stdout",
     "text": [
      "['Las', 'expresiones', 'regulares', 'casi', 'son', 'un', 'lenguaje', 'de']\n['Las expresiones regulares casi son un lenguaje de programación para buscar y analizar cadenas.']\n"
     ]
    },
    {
     "output_type": "execute_result",
     "data": {
      "text/plain": [
       "['Las',\n",
       " 'expresiones',\n",
       " 'regulares',\n",
       " 'casi son un lenguaje de programación para buscar y analizar cadenas.']"
      ]
     },
     "metadata": {},
     "execution_count": 20
    }
   ],
   "source": [
    "# Modificando el texto de entrada. Además de buscar coincidencias podemos utilizar ese mismo patrón para realizar modificaciones al texto de entrada.\n",
    "\n",
    "texto = \"Las expresiones regulares casi son un lenguaje de programación para buscar y analizar cadenas.\"\n",
    "\n",
    "# patron para dividir donde no encuentre un caracter alfanumerico\n",
    "patron = re.compile(r'\\W+')\n",
    "palabras = patron.split(texto)\n",
    "print(palabras[:8]) # 8 primeras palabras\n",
    "\n",
    "# Utilizando la version no compilada de split.\n",
    "print(re.split(r'\\n', texto)) # Dividiendo por linea.\n",
    "\n",
    "# Utilizando el tope de divisiones\n",
    "patron.split(texto, 3)"
   ]
  },
  {
   "cell_type": "code",
   "execution_count": 22,
   "metadata": {},
   "outputs": [
    {
     "output_type": "stream",
     "name": "stdout",
     "text": [
      "El poder de las expresiones REGEX se manifiesta cuando agregamos caracteres especiales a la cadena de búsqueda que nos permite controlar de manera más precisa qué líneas coinciden con la cadena. Agregar estos caracteres especiales a nuestras expresiones REGEX nos permitirá buscar coincidencias y extraer datos usando unas pocas líneas de código.\n\nEl poder de las expresiones REGEX se manifiesta cuando agregamos caracteres especiales a la cadena de búsqueda que nos permite controlar de manera más precisa qué líneas coinciden con la cadena. Agregar estos caracteres especiales a nuestras expresiones regulares nos permitirá buscar coincidencias y extraer datos usando unas pocas líneas de código.\n"
     ]
    },
    {
     "output_type": "execute_result",
     "data": {
      "text/plain": [
       "('El poder de las expresiones REGEX se manifiesta cuando agregamos caracteres especiales a la cadena de búsqueda que nos permite controlar de manera más precisa qué líneas coinciden con la cadena. Agregar estos caracteres especiales a nuestras expresiones REGEX nos permitirá buscar coincidencias y extraer datos usando unas pocas líneas de código.',\n",
       " 2)"
      ]
     },
     "metadata": {},
     "execution_count": 22
    }
   ],
   "source": [
    "texto = \"El poder de las expresiones regulares se manifiesta cuando agregamos caracteres especiales a la cadena de búsqueda que nos permite controlar de manera más precisa qué líneas coinciden con la cadena. Agregar estos caracteres especiales a nuestras expresiones regulares nos permitirá buscar coincidencias y extraer datos usando unas pocas líneas de código.\"\n",
    "\n",
    "# Cambia todo los regulares o Regulares por REGEX\n",
    "reg = re.compile(r'\\b(R|r)egulares\\b')\n",
    "regex = reg.sub(\"REGEX\", texto)\n",
    "print(regex)\n",
    "print()\n",
    "\n",
    "# Cambia solo 1 regulares por REGEX\n",
    "regex = reg.sub(\"REGEX\", texto, 1)\n",
    "print(regex)\n",
    "\n",
    "# Nos devuelve tambien la cantidad de cambios que hizo\n",
    "re.subn(r'\\b(R|r)egulares\\b', \"REGEX\", texto)"
   ]
  },
  {
   "cell_type": "code",
   "execution_count": null,
   "metadata": {},
   "outputs": [],
   "source": [
    "#Banderas de compilación\n",
    "\n",
    "#Las banderas de compilación permiten modificar algunos aspectos de cómo funcionan las expresiones regulares. Todas ellas están disponibles en el módulo re con un nombre largo y una letra que lo identifica.\n",
    "\n",
    "#IGNORECASE, I: búsquedas sin tener en cuenta las minúsculas o mayúsculas. Múltiples banderas pueden ser especificadas utilizando el operador \"|\" OR.\n",
    "\n",
    "#VERBOSE, X: Los comentarios y espacios son ignorados (en la expresión). Es importante indicar que los espacios SON ignorados por lo que si necesitamos indicar un espacio hay que escaparlo\n",
    "\n",
    "#ASCII, A: Que hace que las secuencias de escape \\w, \\b, \\s and \\d funciones para coincidencias con los caracteres ASCII.\n",
    "\n",
    "#DOTALL, S: permite que el punto (.) coincida con la nueva línea LOCALE, L: Esta opción hace que \\w, \\W, \\b, \\B, \\s, y \\S dependientes de la localización actual.\n",
    "\n",
    "#MULTILINE, M: dentro de una cadena compuesta de muchas líneas, permite que ^ y $ coincidan con el inicio y el final de cada línea. Normalmente ^ / $ solo coincidiría con el inicio y el final de toda la cadena."
   ]
  },
  {
   "cell_type": "code",
   "execution_count": 23,
   "metadata": {},
   "outputs": [
    {
     "output_type": "stream",
     "name": "stdout",
     "text": [
      "El poder de las expresiones REGEX se manifiesta cuando agregamos caracteres especiales a la cadena de búsqueda que nos permite controlar de manera más precisa qué líneas coinciden con la cadena. Agregar estos caracteres especiales a nuestras expresiones REGEX nos permitirá buscar coincidencias y extraer datos usando unas pocas líneas de código.\n"
     ]
    }
   ],
   "source": [
    "# IGNORECASE\n",
    "\n",
    "#Esta escrito regulares y Regulares para corroborar que funciona \n",
    "texto = \"El poder de las expresiones regulares se manifiesta cuando agregamos caracteres especiales a la cadena de búsqueda que nos permite controlar de manera más precisa qué líneas coinciden con la cadena. Agregar estos caracteres especiales a nuestras expresiones Regulares nos permitirá buscar coincidencias y extraer datos usando unas pocas líneas de código.\"\n",
    "\n",
    "reg = re.compile(r'regulares\\b', re.I)\n",
    "regex = reg.sub(\"REGEX\", texto)\n",
    "print(regex)\n"
   ]
  },
  {
   "cell_type": "code",
   "execution_count": 24,
   "metadata": {},
   "outputs": [
    {
     "output_type": "execute_result",
     "data": {
      "text/plain": [
       "['aaa.bbbbbb@gmail.com',\n",
       " 'ccc.dddddd@yahoo.com.ar',\n",
       " 'eeeee@github.io',\n",
       " 'river@riverplate.com.ar']"
      ]
     },
     "metadata": {},
     "execution_count": 24
    }
   ],
   "source": [
    "# VERBOSE \n",
    "\n",
    "mails = \"\"\"aaa.bbbbbb@gmail.com, Pepe Pepitito,\n",
    "ccc.dddddd@yahoo.com.ar, qué lindo día , eeeee@github.io,\n",
    "https://pypi.org/project/regex/, https://ffffff.github.io,\n",
    "python@python, river@riverplate.com.ar, pythonAR@python.pythonAR\n",
    "\"\"\"\n",
    "\n",
    "# Para validar mails una regex aproximada puede ser: \\b[\\w.%+-]+@[\\w.-]+\\.[a-zA-Z]{2,6}\\b\n",
    "\n",
    "mail = re.compile(r\"\"\"\n",
    "\\b # comienzo de delimitador de palabra\n",
    "[\\w.%+-] # Cualquier caracter alfanumerico mas los signos (.%+-)\n",
    "+@ # seguido de @\n",
    "[\\w.-] # dominio: Cualquier caracter alfanumerico mas los signos (.-)\n",
    "+\\. # seguido de .\n",
    "[a-zA-Z]{2,6} # dominio de alto nivel: 2 a 6 letras en minúsculas o mayúsculas.\n",
    "\\b # fin de delimitador de palabra\n",
    "\"\"\", re.X)\n",
    "mail.findall(mails)\n"
   ]
  },
  {
   "cell_type": "code",
   "execution_count": 25,
   "metadata": {},
   "outputs": [
    {
     "output_type": "stream",
     "name": "stdout",
     "text": [
      "<re.Match object; span=(0, 23), match='https://www.python.org/'>\nNone\n"
     ]
    }
   ],
   "source": [
    "# Para validar una URL (webScrapping)\n",
    "\n",
    "# Una regex aproximada puede ser: ^(https?:\\/\\/)?([\\da-z\\.-]+)\\.([a-z\\.]{2,6})([\\/\\w \\.-]*)*\\/?$\n",
    "\n",
    "url = re.compile(r\"^(https?:\\/\\/)?([\\da-z\\.-]+)\\.([a-z\\.]{2,6})([\\/\\w \\.-]*)*\\/?$\")\n",
    "print(url.search(\"https://www.python.org/\"))\n",
    "print(url.search(\"https://www.google.com/!.html\"))\n"
   ]
  },
  {
   "cell_type": "code",
   "execution_count": 27,
   "metadata": {},
   "outputs": [
    {
     "output_type": "stream",
     "name": "stdout",
     "text": [
      "<re.Match object; span=(0, 13), match='98.61.125.138'>\nNone\n"
     ]
    }
   ],
   "source": [
    "# Para validar una dirección IP\n",
    "# Una regex aproximada puede ser: \n",
    "# ^(?:(?:25[0-5]|2[0-4][0-9]|[01]?[0-9][0-9]?)\\.){3}(?:25[0-5]|2[0-4][0-9]|[01]?[0-9][0-9]?)$\n",
    "\n",
    "patron = (r'^(?:(?:25[0-5]|2[0-4][0-9]|[01]?[0-9][0-9]?)\\.){3}(?:25[0-5]|2[0-4][0-9]|[01]?[0-9][0-9]?)$')\n",
    "ip = re.compile(patron)\n",
    "print(ip.search(\"98.61.125.138\"))\n",
    "print(ip.search(\"256.60.124.136\"))"
   ]
  },
  {
   "cell_type": "code",
   "execution_count": 28,
   "metadata": {},
   "outputs": [
    {
     "output_type": "stream",
     "name": "stdout",
     "text": [
      "<re.Match object; span=(0, 9), match='2/10/1990'>\nNone\nNone\nNone\n"
     ]
    }
   ],
   "source": [
    "# Para validar una fecha\n",
    "# Una regex aproximada puede ser: ^(0?[1-9]|[12][0-9]|3[01])/(0?[1-9]|1[012])/((19|20)\\d\\d)$\n",
    "\n",
    "fecha = re.compile(r'^(0?[1-9]|[12][0-9]|3[01])/(0?[1-9]|1[012])/((19|20)\\d\\d)$')\n",
    "\n",
    "print(fecha.search(\"2/10/1990\"))\n",
    "print(fecha.search(\"2-10-1990\"))\n",
    "print(fecha.search(\"32/12/2021\"))\n",
    "print(fecha.search(\"30/13/2020\"))"
   ]
  },
  {
   "cell_type": "code",
   "execution_count": 30,
   "metadata": {},
   "outputs": [
    {
     "output_type": "stream",
     "name": "stdout",
     "text": [
      "https://docs.python.org/3/index.html\nhttps://www.python.org/\nhttps://devguide.python.org/docquality/#helping-with-documentation\nhttps://docs.python.org/3.11/\nhttps://docs.python.org/3.10/\nhttps://docs.python.org/3.9/\nhttps://docs.python.org/3.8/\nhttps://docs.python.org/3.7/\nhttps://docs.python.org/3.6/\nhttps://docs.python.org/3.5/\nhttps://docs.python.org/2.7/\nhttps://www.python.org/doc/versions/\nhttps://www.python.org/dev/peps/\nhttps://wiki.python.org/moin/BeginnersGuide\nhttps://wiki.python.org/moin/PythonBooks\nhttps://www.python.org/doc/av/\nhttps://devguide.python.org/\nhttps://www.python.org/\nhttps://www.python.org/psf/donations/\nhttps://docs.python.org/3/bugs.html\nhttps://www.sphinx-doc.org/\n"
     ]
    }
   ],
   "source": [
    "#Análisis the HTML mediante expresionesregulares\n",
    "#La regex del ejemplo busca cadenas que comiencen con “href=\"http://” o “href=https://, seguido de uno o más caracteres (.+?), seguidos por otra comilla doble . \n",
    "\n",
    "# El signo de interrogación después de [s]? , indica que la coincidencia debe ser hecha en modo    “no codicioso”, en vez de en modo “codicioso”. \n",
    "#\n",
    "# Una búsqueda no-codiciosa intenta encontrar la cadena coincidente más pequeña posible\n",
    "# Una búsqueda codiciosa intentaría localizar la cadena coincidente más grande. \n",
    "\n",
    "# Agregamos paréntesis a la regex para indicar qué parte de la cadena localizada queremos extraer.\n",
    "\n",
    "url= 'https://docs.python.org' # probamos con https://docs.python.org ó http://python.org\n",
    "\n",
    "# Utiliza libreria urllib.request\n",
    "with ur.urlopen(url) as f:\n",
    "    html = f.read().decode('utf-8')\n",
    "\n",
    "regex = re.compile('href=\"(http*s+?://.*?)\"', re.IGNORECASE)\n",
    "links = re.findall(regex, html)\n",
    "\n",
    "for link in links:\n",
    "    print(link)\n"
   ]
  }
 ]
}