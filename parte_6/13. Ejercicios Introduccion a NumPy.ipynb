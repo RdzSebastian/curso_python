{
 "cells": [
  {
   "cell_type": "markdown",
   "metadata": {},
   "source": [
    "# Introduccion a NumPy - Ejercicios\n",
    "Empezamos a trabajar como data Analyst en una empresa de la ciudad, y el gerente requiere de nuestra ayuda..."
   ]
  },
  {
   "cell_type": "markdown",
   "metadata": {},
   "source": [
    "### 1.Comienza importando NumPy como `np`"
   ]
  },
  {
   "cell_type": "code",
   "execution_count": null,
   "metadata": {},
   "outputs": [],
   "source": []
  },
  {
   "cell_type": "markdown",
   "metadata": {},
   "source": [
    "La empresa recaba datos de usuarios de internet: 'duracion,paginas,acciones,valor,clase'. Por ejemplo, un usuario navega: |duracion|paginas|acciones|valor|clase|, o sea:\n",
    "|2.34 minutos/segundos de navegación |8 páginas|4 acciones|1 valor|5 (clasificación de usuario)|\n",
    "    \n",
    "### 2.Crea un array de NumPy que represente los datos anteriores. Cada elemento debe ser un numero (por ejemplo `2.34` para \"2.34 minutos/segundos\"). Guarda este array como `un_usuario`"
   ]
  },
  {
   "cell_type": "code",
   "execution_count": null,
   "metadata": {},
   "outputs": [],
   "source": []
  },
  {
   "cell_type": "markdown",
   "metadata": {},
   "source": [
    "El asistente ha compilado los datos de un día en un archivo `csv` llamado `usuarios.csv`. Este archivo fue suministrado.\n",
    "\n",
    "### 3.Carga este archivo en una variable llamada `usuarios`"
   ]
  },
  {
   "cell_type": "code",
   "execution_count": null,
   "metadata": {},
   "outputs": [],
   "source": []
  },
  {
   "cell_type": "markdown",
   "metadata": {},
   "source": [
    "### 4.Emite 'usuarios'"
   ]
  },
  {
   "cell_type": "code",
   "execution_count": null,
   "metadata": {},
   "outputs": [],
   "source": []
  },
  {
   "cell_type": "markdown",
   "metadata": {},
   "source": [
    "Cada fila representa un usuario diferente. Cada columna representa una característica diferente.\n",
    "\n",
    "La tercera columna representa el numero de 'acciones' que realiza cada usuario. \n",
    "\n",
    "### 5.Selecciona todos los elementos de la tercera columna y guárdalos en una variable llamada 'acciones'"
   ]
  },
  {
   "cell_type": "code",
   "execution_count": null,
   "metadata": {},
   "outputs": [],
   "source": []
  },
  {
   "cell_type": "markdown",
   "metadata": {},
   "source": [
    "### 6.Cuáles usuarios realizaron 4 acciones? Usa una sentencia lógica para obtener 'True' o 'False' para cada valor de acciones"
   ]
  },
  {
   "cell_type": "code",
   "execution_count": null,
   "metadata": {},
   "outputs": [],
   "source": []
  },
  {
   "cell_type": "markdown",
   "metadata": {},
   "source": [
    "El gerente necesita los datos de la tercera fila...\n",
    "\n",
    "### 7.Crea una variable para los datos de la tercera fila y emite los datos"
   ]
  },
  {
   "cell_type": "code",
   "execution_count": null,
   "metadata": {},
   "outputs": [],
   "source": []
  },
  {
   "cell_type": "markdown",
   "metadata": {},
   "source": [
    "### 8.Los datos del quinto usuario se guardaron mal, en realidad es el doble en todo. Guarda la operación en nueva variable en  'doble_usuario5'"
   ]
  },
  {
   "cell_type": "code",
   "execution_count": null,
   "metadata": {},
   "outputs": [],
   "source": []
  },
  {
   "cell_type": "markdown",
   "metadata": {},
   "source": [
    "### 9.El gerente necesita saber de cuántos usuarios se obtuvo información:"
   ]
  },
  {
   "cell_type": "code",
   "execution_count": null,
   "metadata": {},
   "outputs": [],
   "source": []
  },
  {
   "source": [
    "### 10- Cómo quedó muy contento con nuestro trabajo necesita saber:\n",
    "\n",
    "1. El máximo de tiempo que estuvo un usuario navegando.\n",
    "2. El mínimo de tiempo que estuvo un usuario navegando.\n",
    "3. La media de tiempo de navegación y de páginas navegadas.\n",
    "4. El total de tiempo de navegación y de páginas navegadas.\n",
    "5. La mediana de acciones registradas.\n",
    "6. Calcula la moda de las acciones (puedes necesitar: from scipy import stats)"
   ],
   "cell_type": "markdown",
   "metadata": {}
  }
 ],
 "metadata": {
  "kernelspec": {
   "name": "python391jvsc74a57bd0ee8b36954a848a19daaf9e7376cf8cc6748f490d6432403b20cd7365cf4ac396",
   "display_name": "Python 3.9.1 64-bit"
  },
  "language_info": {
   "codemirror_mode": {
    "name": "ipython",
    "version": 3
   },
   "file_extension": ".py",
   "mimetype": "text/x-python",
   "name": "python",
   "nbconvert_exporter": "python",
   "pygments_lexer": "ipython3",
   "version": "3.9.1"
  },
  "metadata": {
   "interpreter": {
    "hash": "ee8b36954a848a19daaf9e7376cf8cc6748f490d6432403b20cd7365cf4ac396"
   }
  }
 },
 "nbformat": 4,
 "nbformat_minor": 2
}