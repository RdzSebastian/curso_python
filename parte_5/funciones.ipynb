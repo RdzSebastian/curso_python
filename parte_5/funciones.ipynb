{
 "metadata": {
  "language_info": {
   "codemirror_mode": {
    "name": "ipython",
    "version": 3
   },
   "file_extension": ".py",
   "mimetype": "text/x-python",
   "name": "python",
   "nbconvert_exporter": "python",
   "pygments_lexer": "ipython3",
   "version": "3.9.4"
  },
  "orig_nbformat": 2,
  "kernelspec": {
   "name": "python394jvsc74a57bd0a4dd7aa18acf39b7dc56ae75dfa9ef93c5e61b91b7128fcddf894f6f3082a42c",
   "display_name": "Python 3.9.4 64-bit (windows store)"
  },
  "metadata": {
   "interpreter": {
    "hash": "a4dd7aa18acf39b7dc56ae75dfa9ef93c5e61b91b7128fcddf894f6f3082a42c"
   }
  }
 },
 "nbformat": 4,
 "nbformat_minor": 2,
 "cells": [
  {
   "cell_type": "code",
   "execution_count": 1,
   "metadata": {},
   "outputs": [
    {
     "output_type": "stream",
     "name": "stdout",
     "text": [
      "-1\n"
     ]
    }
   ],
   "source": [
    "#1 arreglar el programa (ya arreglado)\n",
    "def maximo(a, b):\n",
    " if a > b:\n",
    "    return a\n",
    " else:\n",
    "    return b\n",
    "\n",
    "def minimo(a, b):\n",
    " if a < b:\n",
    "    return a\n",
    " else:\n",
    "    return b\n",
    "\n",
    "x = int(input(\"Ingrese un número:\\n\"))\n",
    "y = int(input(\"Ingrese otro número:\\n\"))\n",
    "\n",
    "print(maximo(x-3, minimo(x+2, y-5)))"
   ]
  },
  {
   "cell_type": "code",
   "execution_count": 23,
   "metadata": {},
   "outputs": [
    {
     "output_type": "stream",
     "name": "stdout",
     "text": [
      "[4, 6, 8, 10]\n"
     ]
    }
   ],
   "source": [
    "#2 Convertir a funciones los siguientes ejercicios:\n",
    "#A) Ejercicio 6 de rangos. Escribe un programa que pida dos números enteros y emita la lista de números pares que hay entre ellos (incluidos ellos mismos si son pares)\n",
    "\n",
    "\n",
    "def numerosParesEntreEllos(a, b):\n",
    "    if (a % 2) == 0 and (b % 2) == 0:\n",
    "        print(list(range(a,b+1,2)))\n",
    "    elif (a % 2) != 0 and (b % 2) != 0:\n",
    "        a += 1\n",
    "        print(list(range(a,b,2)))\n",
    "    elif (a % 2) != 0:\n",
    "        a += 1\n",
    "        print(list(range(a,b+1,2)))\n",
    "    elif (b % 2) != 0:\n",
    "        print(list(range(a,b,2)))\n",
    "\n",
    "numero1 = int(input(\"Ingrese un numero entero: \"))\n",
    "numero2 = int(input(\"Ingrese otro numero entero mayor al anterior: \"))\n",
    "\n",
    "numerosParesEntreEllos(numero1, numero2)"
   ]
  },
  {
   "cell_type": "code",
   "execution_count": 20,
   "metadata": {},
   "outputs": [
    {
     "output_type": "stream",
     "name": "stdout",
     "text": [
      "['hola', 'soy', 'seba']\n['seba', 'soy', 'hola']\n"
     ]
    }
   ],
   "source": [
    "#B) Ejercicio 6 de listas (agrega tambien el 1 de lista para crear la lista de las palabras)\n",
    "\n",
    "def invertirPalabras(palabrasAInvertir):\n",
    "    palabras_invertidas = []\n",
    "\n",
    "    for i in range(len(palabrasAInvertir)):\n",
    "        palabras_invertidas.append(palabras[len(palabrasAInvertir) - i - 1])\n",
    "\n",
    "    return palabras_invertidas\n",
    "\n",
    "def crearListaDePalabras():\n",
    "    cantidad_palabras = int(input(\"Ingrese el tamaño de la lista: \"))\n",
    "    palabras_lista = []\n",
    "    for i in range(cantidad_palabras):\n",
    "        palabra = input(f\"Ingrese palabra numero {i+1}: \")\n",
    "        palabras_lista.append(palabra)\n",
    "    return palabras_lista\n",
    "\n",
    "\n",
    "palabras = crearListaDePalabras()\n",
    "palabras_invertidas = invertirPalabras(palabras)\n",
    "\n",
    "print(palabras)\n",
    "print(palabras_invertidas)"
   ]
  },
  {
   "cell_type": "code",
   "execution_count": 24,
   "metadata": {},
   "outputs": [
    {
     "output_type": "stream",
     "name": "stdout",
     "text": [
      "1\n2\n3\n5\n8\n"
     ]
    }
   ],
   "source": [
    "#C) Ejercicio 4 de ciclo for\n",
    "def finnonacci(a):\n",
    "    a = 0\n",
    "    b = 1\n",
    "        \n",
    "    for i in range(n):\n",
    "        c = b+a\n",
    "        a = b\n",
    "        b = c\n",
    "        print(c)\n",
    "\n",
    "\n",
    "n = int(input(\"Ingrese un numero y se mostrara esa cantidad de numeros de la secuencia de fibonacci: \"))\n",
    "finnonacci(n)"
   ]
  },
  {
   "cell_type": "code",
   "execution_count": 4,
   "metadata": {},
   "outputs": [
    {
     "output_type": "stream",
     "name": "stdout",
     "text": [
      "[2, 3, 4, 2, 3, 2, 3]\n"
     ]
    }
   ],
   "source": [
    "#D) Ejercicio 7 de ciclo while\n",
    "\n",
    "def numerosEntreEllos(a, b):\n",
    "    esta_entre_ellos = True\n",
    "    numeros_entre_ellos = []\n",
    "\n",
    "    while(esta_entre_ellos):\n",
    "        numero_entre_ellos = int(input(\"Ingrese un numero entero que este entre el primer numero ingresado y el segundo (para terminar ponga uno que no): \"))\n",
    "        if (a < numero_entre_ellos and b > numero_entre_ellos):\n",
    "            numeros_entre_ellos.append(numero_entre_ellos)\n",
    "        else:\n",
    "            esta_entre_ellos = False\n",
    "    return numeros_entre_ellos\n",
    "\n",
    "numero1 = int(input(\"Ingrese un numero entero: \"))\n",
    "numero2 = int(input(\"Ingrese otro numero entero mayor al anterior: \"))\n",
    "print(numerosEntreEllos(numero1, numero2))"
   ]
  },
  {
   "cell_type": "code",
   "execution_count": 7,
   "metadata": {},
   "outputs": [
    {
     "output_type": "stream",
     "name": "stdout",
     "text": [
      "Para agregar pasajeros ingrese 1\n",
      "Para agregar ciudad y pais ingrese 2\n",
      "Para buscar a que ciudad y pais viaja un pasajero segun dni ingrese 3\n",
      "Para para buscar cuantos pasajeros viajan a cierto pais ingrese 4\n",
      "Para salir ingrese 5 \n",
      "Para agregar pasajeros ingrese 1\n",
      "Para agregar ciudad y pais ingrese 2\n",
      "Para buscar a que ciudad y pais viaja un pasajero segun dni ingrese 3\n",
      "Para para buscar cuantos pasajeros viajan a cierto pais ingrese 4\n",
      "Para salir ingrese 5 \n",
      "El viajero dni: 12 viaja a Londres, Inglaterra\n",
      "Para agregar pasajeros ingrese 1\n",
      "Para agregar ciudad y pais ingrese 2\n",
      "Para buscar a que ciudad y pais viaja un pasajero segun dni ingrese 3\n",
      "Para para buscar cuantos pasajeros viajan a cierto pais ingrese 4\n",
      "Para salir ingrese 5 \n"
     ]
    }
   ],
   "source": [
    "#E) Ejercicio 3 de tuplas\n",
    "\n",
    "def agregarPasajeros(lista_viajeros):\n",
    "    nombre = input(\"Ingrese nombre de pasajero: \")\n",
    "    dni = int(input(\"Ingrese dni: \"))\n",
    "    ciudad = input(\"Ingrese ciudad de destino: \")\n",
    "    lista_viajeros.append((nombre, dni, ciudad))\n",
    "\n",
    "def agregarCiudadDestino(lista_destinos):\n",
    "    ciudad = input(\"Ingrese ciudad de destino: \")\n",
    "    pais = input(\"Ingrese pais de dicha ciudad: \")\n",
    "    lista_destinos.append((ciudad, pais))\n",
    "\n",
    "def buscarCiudadYPaisQueViajaPasajeroByDNI(lista_viajeros, lista_destinos):\n",
    "    dni_buscar = int(input(\"Ingrese dni a buscar: \"))\n",
    "    for nombre, dni, ciudad in lista_viajeros:\n",
    "        if dni_buscar == dni:\n",
    "            ciudad_viaja = ciudad\n",
    "            break\n",
    "    for ciudad, pais in lista_destinos:\n",
    "        if ciudad == ciudad_viaja:\n",
    "            pais_viaja = pais\n",
    "    print(f\"El viajero dni: {dni_buscar} viaja a {ciudad_viaja}, {pais_viaja}\")\n",
    "\n",
    "def cuantosPasajerosViajanACiertoPais(lista_viajeros, lista_destinos):\n",
    "    pais_buscar = input(\"Ingrese pais a buscar: \")\n",
    "    ciudades_de_pais = []\n",
    "    cantidad_pasajeros_viajan_pais = 0\n",
    "    for ciudad, pais in lista_destinos:\n",
    "        if(pais_buscar == pais):\n",
    "            ciudades_de_pais.append(ciudad)\n",
    "    for nombre, dni, ciudad in lista_viajeros:\n",
    "        for ciudad_de_pais in ciudades_de_pais:\n",
    "            if ciudad_de_pais == ciudad:\n",
    "                cantidad_pasajeros_viajan_pais += 1\n",
    "    print(cantidad_pasajeros_viajan_pais)\n",
    "\n",
    "\n",
    "# -----------------------------------------------\n",
    "lista_viajeros = [(\"Manuel Juarez\", 19823451, \"Liverpool\"),\n",
    "    (\"Silvana Paredes\", 22709128, \"Buenos Aires\"),\n",
    "    (\"Rosa Ortiz\", 15123978, \"Glasgow\"),\n",
    "    (\"Luciana Hernandez\", 38981374, \"Lisboa\"),\n",
    "    (\"Luciana Hernandez\", 38981374, \"Lisboa\")\n",
    "]\n",
    "\n",
    "lista_destinos = [(\"Buenos Aires\", \"Argentina\"),\n",
    "    (\"Glasgow\", \"Escocia\"),\n",
    "    (\"Lisboa\", \"Portugal\"),\n",
    "    (\"Londres\", \"Inglaterra\"),\n",
    "    (\"Liverpool\", \"Inglaterra\"),\n",
    "    (\"Madrid\", \"España\")\n",
    "]\n",
    "\n",
    "seguir = True\n",
    "\n",
    "while(seguir):\n",
    "    print(\"Para agregar pasajeros ingrese 1\")\n",
    "    print(\"Para agregar ciudad y pais ingrese 2\")\n",
    "    print(\"Para buscar a que ciudad y pais viaja un pasajero segun dni ingrese 3\")\n",
    "    print(\"Para para buscar cuantos pasajeros viajan a cierto pais ingrese 4\")\n",
    "    print(\"Para salir ingrese 5 \")\n",
    "    opcion = int(input())\n",
    "    if opcion == 1:\n",
    "        agregarPasajeros(lista_viajeros)\n",
    "    elif opcion == 2:\n",
    "        agregarCiudadDestino(lista_destinos)\n",
    "    elif opcion == 3:\n",
    "        buscarCiudadYPaisQueViajaPasajeroByDNI(lista_viajeros, lista_destinos)\n",
    "    elif opcion == 4:\n",
    "        cuantosPasajerosViajanACiertoPais(lista_viajeros, lista_destinos)\n",
    "    else:\n",
    "        seguir = False"
   ]
  },
  {
   "cell_type": "code",
   "execution_count": 9,
   "metadata": {},
   "outputs": [
    {
     "output_type": "stream",
     "name": "stdout",
     "text": [
      "lista 1: [2, 3, 4]\n",
      "conjunto 1: {1, 2}\n",
      "conjunto 2: {2, 3, 4}\n",
      "conjunto 3: {1, 2}\n",
      "Para enviar lista 1 y que se devuelva sin repeticiones ingrese 1\n",
      "Para mostrar el conjunto resultante de unir los conjuntos 1 y 2 ingrese 2\n",
      "Para mostrar el conjunto cuyos elementos pertenecen a 1 y a 2 ingrese 3\n",
      "Para mostrar el conjunto de elementos que pertenecen a 1 y no a 2 ingrese 4\n",
      "Para saber si son conjuntos 1 - 2 y 2 - 3 iguales ingrese 5 \n",
      "False\n",
      "True\n"
     ]
    }
   ],
   "source": [
    "#F) Ejercicio 4 de conjuntos\n",
    "\n",
    "def listaAListaSinRepeticion(a):\n",
    "    return list(set(a))\n",
    "\n",
    "def unionConjuntos(a, b):\n",
    "    return a.union(b)\n",
    "\n",
    "def interseccionConjuntos(a, b):\n",
    "    return a.intersection(b)\n",
    "\n",
    "def diferenciasConjuntos(a, b):\n",
    "    return a.difference(b)\n",
    "\n",
    "def equals(a, b):\n",
    "    return a == b\n",
    "\n",
    "conjunto1 = set([1, 2, 1])\n",
    "conjunto2 = set([2, 3, 2, 4])\n",
    "conjunto3 = conjunto1\n",
    "print(f\"lista 1: {list(conjunto2)}\")\n",
    "print(f\"conjunto 1: {conjunto1}\")\n",
    "print(f\"conjunto 2: {conjunto2}\")\n",
    "print(f\"conjunto 3: {conjunto3}\")\n",
    "\n",
    "print(\"Para enviar lista 1 y que se devuelva sin repeticiones ingrese 1\")\n",
    "print(\"Para mostrar el conjunto resultante de unir los conjuntos 1 y 2 ingrese 2\")\n",
    "print(\"Para mostrar el conjunto cuyos elementos pertenecen a 1 y a 2 ingrese 3\")\n",
    "print(\"Para mostrar el conjunto de elementos que pertenecen a 1 y no a 2 ingrese 4\")\n",
    "print(\"Para saber si son conjuntos 1 - 2 y 2 - 3 iguales ingrese 5 \")\n",
    "\n",
    "\n",
    "opcion = int(input())\n",
    "if opcion == 1:\n",
    "    print(listaAListaSinRepeticion(conjunto1))\n",
    "elif opcion == 2:\n",
    "    print(unionConjuntos(conjunto1, conjunto2))\n",
    "elif opcion == 3:\n",
    "    print(interseccionConjuntos(conjunto1, conjunto2))\n",
    "elif opcion == 4:\n",
    "    print(diferenciasConjuntos(conjunto1, conjunto2))\n",
    "else:\n",
    "    print(equals(conjunto1, conjunto2))\n",
    "    print(equals(conjunto1, conjunto3))\n"
   ]
  },
  {
   "cell_type": "code",
   "execution_count": 3,
   "metadata": {},
   "outputs": [
    {
     "output_type": "stream",
     "name": "stdout",
     "text": [
      "El alumno con nombre sebastian ya ha sido ingresado, intente con otro\n{'sebastian': [1, 2, 3, 4]}\n"
     ]
    }
   ],
   "source": [
    "#G) Ejercicio 3 de diccionarios\n",
    "\n",
    "def ingresarNotas(alumno):\n",
    "    nota = 0\n",
    "    while nota >= 0:\n",
    "        nota = int(input(f\"Ingrese nota o un numero negativo para terminar: \"))\n",
    "        if nota >= 0:\n",
    "            notas.append(nota)\n",
    "    diccionario[alumno] = notas\n",
    "\n",
    "\n",
    "diccionario = {}\n",
    "notas = []\n",
    "\n",
    "cantidad_alumnos = int(input(f\"Ingrese cantidad de alumnos a ingresar: \"))\n",
    "\n",
    "for i in range(cantidad_alumnos):\n",
    "    alumno = input(f\"Ingrese nombre del alumno {i+1}: \")\n",
    "    \n",
    "    if(alumno in diccionario):\n",
    "        print(f\"El alumno con nombre {alumno} ya ha sido ingresado, intente con otro\")\n",
    "    else:\n",
    "        ingresarNotas(alumno)\n",
    "\n",
    "print(diccionario)"
   ]
  },
  {
   "cell_type": "code",
   "execution_count": null,
   "metadata": {},
   "outputs": [],
   "source": []
  }
 ]
}